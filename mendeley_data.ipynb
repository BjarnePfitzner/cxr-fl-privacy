{
 "cells": [
  {
   "cell_type": "code",
   "execution_count": 4,
   "metadata": {},
   "outputs": [],
   "source": [
    "import pandas as pd\n",
    "import matplotlib.pyplot as plt\n",
    "import numpy as np\n",
    "import os"
   ]
  },
  {
   "cell_type": "markdown",
   "metadata": {},
   "source": [
    "### Create CSVs for Data Loading"
   ]
  },
  {
   "cell_type": "code",
   "execution_count": 13,
   "metadata": {},
   "outputs": [],
   "source": [
    "data_path = '../mendeley_xray/'\n",
    "train_path_no = data_path + 'train/NORMAL/'\n",
    "train_path_pn = data_path + 'train/PNEUMONIA/'\n",
    "test_path_no = data_path + 'test/NORMAL/'\n",
    "test_path_pn = data_path + 'test/PNEUMONIA/'"
   ]
  },
  {
   "cell_type": "code",
   "execution_count": 24,
   "metadata": {},
   "outputs": [],
   "source": [
    "train_no_files = [train_path_no+file for file in os.listdir(train_path_no) if not file.startswith('.')]\n",
    "train_pn_files = [train_path_pn+file for file in os.listdir(train_path_pn) if not file.startswith('.')]\n",
    "test_no_files = [test_path_no+file for file in os.listdir(test_path_no) if not file.startswith('.')]\n",
    "test_pn_files = [test_path_pn+file for file in os.listdir(test_path_pn) if not file.startswith('.')]"
   ]
  },
  {
   "cell_type": "code",
   "execution_count": 29,
   "metadata": {},
   "outputs": [
    {
     "data": {
      "text/plain": [
       "['..', 'mendeley_xray', 'train', 'PNEUMONIA', 'BACTERIA-4038442-0001.jpeg']"
      ]
     },
     "execution_count": 29,
     "metadata": {},
     "output_type": "execute_result"
    }
   ],
   "source": [
    "train_pn_files[0].split('/')"
   ]
  },
  {
   "cell_type": "code",
   "execution_count": 25,
   "metadata": {},
   "outputs": [],
   "source": [
    "assert len(train_no_files) + len(train_pn_files) +  len(test_no_files) + len(test_pn_files) == 5856"
   ]
  },
  {
   "cell_type": "code",
   "execution_count": 48,
   "metadata": {},
   "outputs": [],
   "source": [
    "# train_df = pd.DataFrame(columns=['Path', 'Sex', 'Age', 'Frontal/Lateral', 'AP/PA', 'No Finding',\n",
    "#                                 'Enlarged Cardiomediastinum', 'Cardiomegaly', 'Lung Opacity',\n",
    "#                                'Lung Lesion', 'Edema', 'Consolidation', 'Pneumonia', 'Atelectasis', \n",
    "#                                 'Pneumothorax','Pleural Effusion', 'Pleural Other', 'Fracture', 'Support Devices'])\n",
    "# test_df = pd.DataFrame(columns=['Path', 'Sex', 'Age', 'Frontal/Lateral', 'AP/PA', 'No Finding',\n",
    "#                                 'Enlarged Cardiomediastinum', 'Cardiomegaly', 'Lung Opacity',\n",
    "#                                'Lung Lesion', 'Edema', 'Consolidation', 'Pneumonia', 'Atelectasis', \n",
    "#                                 'Pneumothorax','Pleural Effusion', 'Pleural Other', 'Fracture', 'Support Devices'])"
   ]
  },
  {
   "cell_type": "code",
   "execution_count": 30,
   "metadata": {},
   "outputs": [],
   "source": [
    "def create_row(file_name):\n",
    "    \n",
    "    finding = file_name.split('/')[3]\n",
    "    if finding == 'NORMAL':\n",
    "        row = {'Path': file_name[3:], 'No Finding':1, 'Enlarged Cardiomediastinum':0, 'Cardiomegaly':0, 'Lung Opacity':0,\n",
    "                               'Lung Lesion':0, 'Edema':0, 'Consolidation':0, 'Pneumonia':0, 'Atelectasis':0, \n",
    "                                'Pneumothorax':0,'Pleural Effusion':0, 'Pleural Other':0, 'Fracture':0, 'Support Devices':0}\n",
    "    elif finding == 'PNEUMONIA':\n",
    "        row = {'Path': file_name[3:], 'No Finding':0, 'Enlarged Cardiomediastinum':0, 'Cardiomegaly':0, 'Lung Opacity':0,\n",
    "                               'Lung Lesion':0, 'Edema':0, 'Consolidation':0, 'Pneumonia':1, 'Atelectasis':0, \n",
    "                                'Pneumothorax':0,'Pleural Effusion':0, 'Pleural Other':0, 'Fracture':0, 'Support Devices':0}\n",
    "    else:\n",
    "        print('Something went wrong')\n",
    "        \n",
    "    return row"
   ]
  },
  {
   "cell_type": "code",
   "execution_count": 39,
   "metadata": {},
   "outputs": [
    {
     "data": {
      "text/html": [
       "<div>\n",
       "<style scoped>\n",
       "    .dataframe tbody tr th:only-of-type {\n",
       "        vertical-align: middle;\n",
       "    }\n",
       "\n",
       "    .dataframe tbody tr th {\n",
       "        vertical-align: top;\n",
       "    }\n",
       "\n",
       "    .dataframe thead th {\n",
       "        text-align: right;\n",
       "    }\n",
       "</style>\n",
       "<table border=\"1\" class=\"dataframe\">\n",
       "  <thead>\n",
       "    <tr style=\"text-align: right;\">\n",
       "      <th></th>\n",
       "      <th>Path</th>\n",
       "      <th>Sex</th>\n",
       "      <th>Age</th>\n",
       "      <th>Frontal/Lateral</th>\n",
       "      <th>AP/PA</th>\n",
       "      <th>No Finding</th>\n",
       "      <th>Enlarged Cardiomediastinum</th>\n",
       "      <th>Cardiomegaly</th>\n",
       "      <th>Lung Opacity</th>\n",
       "      <th>Lung Lesion</th>\n",
       "      <th>Edema</th>\n",
       "      <th>Consolidation</th>\n",
       "      <th>Pneumonia</th>\n",
       "      <th>Atelectasis</th>\n",
       "      <th>Pneumothorax</th>\n",
       "      <th>Pleural Effusion</th>\n",
       "      <th>Pleural Other</th>\n",
       "      <th>Fracture</th>\n",
       "      <th>Support Devices</th>\n",
       "    </tr>\n",
       "  </thead>\n",
       "  <tbody>\n",
       "    <tr>\n",
       "      <th>0</th>\n",
       "      <td>mendeley_xray/train/NORMAL/NORMAL-2552119-0002...</td>\n",
       "      <td>NaN</td>\n",
       "      <td>NaN</td>\n",
       "      <td>NaN</td>\n",
       "      <td>NaN</td>\n",
       "      <td>1</td>\n",
       "      <td>0</td>\n",
       "      <td>0</td>\n",
       "      <td>0</td>\n",
       "      <td>0</td>\n",
       "      <td>0</td>\n",
       "      <td>0</td>\n",
       "      <td>0</td>\n",
       "      <td>0</td>\n",
       "      <td>0</td>\n",
       "      <td>0</td>\n",
       "      <td>0</td>\n",
       "      <td>0</td>\n",
       "      <td>0</td>\n",
       "    </tr>\n",
       "    <tr>\n",
       "      <th>1</th>\n",
       "      <td>mendeley_xray/train/NORMAL/NORMAL-7298141-0001...</td>\n",
       "      <td>NaN</td>\n",
       "      <td>NaN</td>\n",
       "      <td>NaN</td>\n",
       "      <td>NaN</td>\n",
       "      <td>1</td>\n",
       "      <td>0</td>\n",
       "      <td>0</td>\n",
       "      <td>0</td>\n",
       "      <td>0</td>\n",
       "      <td>0</td>\n",
       "      <td>0</td>\n",
       "      <td>0</td>\n",
       "      <td>0</td>\n",
       "      <td>0</td>\n",
       "      <td>0</td>\n",
       "      <td>0</td>\n",
       "      <td>0</td>\n",
       "      <td>0</td>\n",
       "    </tr>\n",
       "    <tr>\n",
       "      <th>2</th>\n",
       "      <td>mendeley_xray/train/NORMAL/NORMAL-3411116-0002...</td>\n",
       "      <td>NaN</td>\n",
       "      <td>NaN</td>\n",
       "      <td>NaN</td>\n",
       "      <td>NaN</td>\n",
       "      <td>1</td>\n",
       "      <td>0</td>\n",
       "      <td>0</td>\n",
       "      <td>0</td>\n",
       "      <td>0</td>\n",
       "      <td>0</td>\n",
       "      <td>0</td>\n",
       "      <td>0</td>\n",
       "      <td>0</td>\n",
       "      <td>0</td>\n",
       "      <td>0</td>\n",
       "      <td>0</td>\n",
       "      <td>0</td>\n",
       "      <td>0</td>\n",
       "    </tr>\n",
       "    <tr>\n",
       "      <th>3</th>\n",
       "      <td>mendeley_xray/train/NORMAL/NORMAL-1619233-0001...</td>\n",
       "      <td>NaN</td>\n",
       "      <td>NaN</td>\n",
       "      <td>NaN</td>\n",
       "      <td>NaN</td>\n",
       "      <td>1</td>\n",
       "      <td>0</td>\n",
       "      <td>0</td>\n",
       "      <td>0</td>\n",
       "      <td>0</td>\n",
       "      <td>0</td>\n",
       "      <td>0</td>\n",
       "      <td>0</td>\n",
       "      <td>0</td>\n",
       "      <td>0</td>\n",
       "      <td>0</td>\n",
       "      <td>0</td>\n",
       "      <td>0</td>\n",
       "      <td>0</td>\n",
       "    </tr>\n",
       "    <tr>\n",
       "      <th>4</th>\n",
       "      <td>mendeley_xray/train/NORMAL/NORMAL-7327513-0001...</td>\n",
       "      <td>NaN</td>\n",
       "      <td>NaN</td>\n",
       "      <td>NaN</td>\n",
       "      <td>NaN</td>\n",
       "      <td>1</td>\n",
       "      <td>0</td>\n",
       "      <td>0</td>\n",
       "      <td>0</td>\n",
       "      <td>0</td>\n",
       "      <td>0</td>\n",
       "      <td>0</td>\n",
       "      <td>0</td>\n",
       "      <td>0</td>\n",
       "      <td>0</td>\n",
       "      <td>0</td>\n",
       "      <td>0</td>\n",
       "      <td>0</td>\n",
       "      <td>0</td>\n",
       "    </tr>\n",
       "  </tbody>\n",
       "</table>\n",
       "</div>"
      ],
      "text/plain": [
       "                                                Path  Sex  Age  \\\n",
       "0  mendeley_xray/train/NORMAL/NORMAL-2552119-0002...  NaN  NaN   \n",
       "1  mendeley_xray/train/NORMAL/NORMAL-7298141-0001...  NaN  NaN   \n",
       "2  mendeley_xray/train/NORMAL/NORMAL-3411116-0002...  NaN  NaN   \n",
       "3  mendeley_xray/train/NORMAL/NORMAL-1619233-0001...  NaN  NaN   \n",
       "4  mendeley_xray/train/NORMAL/NORMAL-7327513-0001...  NaN  NaN   \n",
       "\n",
       "  Frontal/Lateral AP/PA No Finding Enlarged Cardiomediastinum Cardiomegaly  \\\n",
       "0             NaN   NaN          1                          0            0   \n",
       "1             NaN   NaN          1                          0            0   \n",
       "2             NaN   NaN          1                          0            0   \n",
       "3             NaN   NaN          1                          0            0   \n",
       "4             NaN   NaN          1                          0            0   \n",
       "\n",
       "  Lung Opacity Lung Lesion Edema Consolidation Pneumonia Atelectasis  \\\n",
       "0            0           0     0             0         0           0   \n",
       "1            0           0     0             0         0           0   \n",
       "2            0           0     0             0         0           0   \n",
       "3            0           0     0             0         0           0   \n",
       "4            0           0     0             0         0           0   \n",
       "\n",
       "  Pneumothorax Pleural Effusion Pleural Other Fracture Support Devices  \n",
       "0            0                0             0        0               0  \n",
       "1            0                0             0        0               0  \n",
       "2            0                0             0        0               0  \n",
       "3            0                0             0        0               0  \n",
       "4            0                0             0        0               0  "
      ]
     },
     "execution_count": 39,
     "metadata": {},
     "output_type": "execute_result"
    }
   ],
   "source": [
    "train_files = train_no_files + train_pn_files\n",
    "for file in train_files:\n",
    "    row = create_row(file)\n",
    "    train_df = train_df.append(row, ignore_index=True)\n",
    "\n",
    "train_df.head()"
   ]
  },
  {
   "cell_type": "code",
   "execution_count": 49,
   "metadata": {},
   "outputs": [
    {
     "data": {
      "text/html": [
       "<div>\n",
       "<style scoped>\n",
       "    .dataframe tbody tr th:only-of-type {\n",
       "        vertical-align: middle;\n",
       "    }\n",
       "\n",
       "    .dataframe tbody tr th {\n",
       "        vertical-align: top;\n",
       "    }\n",
       "\n",
       "    .dataframe thead th {\n",
       "        text-align: right;\n",
       "    }\n",
       "</style>\n",
       "<table border=\"1\" class=\"dataframe\">\n",
       "  <thead>\n",
       "    <tr style=\"text-align: right;\">\n",
       "      <th></th>\n",
       "      <th>Path</th>\n",
       "      <th>Sex</th>\n",
       "      <th>Age</th>\n",
       "      <th>Frontal/Lateral</th>\n",
       "      <th>AP/PA</th>\n",
       "      <th>No Finding</th>\n",
       "      <th>Enlarged Cardiomediastinum</th>\n",
       "      <th>Cardiomegaly</th>\n",
       "      <th>Lung Opacity</th>\n",
       "      <th>Lung Lesion</th>\n",
       "      <th>Edema</th>\n",
       "      <th>Consolidation</th>\n",
       "      <th>Pneumonia</th>\n",
       "      <th>Atelectasis</th>\n",
       "      <th>Pneumothorax</th>\n",
       "      <th>Pleural Effusion</th>\n",
       "      <th>Pleural Other</th>\n",
       "      <th>Fracture</th>\n",
       "      <th>Support Devices</th>\n",
       "    </tr>\n",
       "  </thead>\n",
       "  <tbody>\n",
       "    <tr>\n",
       "      <th>619</th>\n",
       "      <td>mendeley_xray/test/PNEUMONIA/BACTERIA-9242636-...</td>\n",
       "      <td>NaN</td>\n",
       "      <td>NaN</td>\n",
       "      <td>NaN</td>\n",
       "      <td>NaN</td>\n",
       "      <td>0</td>\n",
       "      <td>0</td>\n",
       "      <td>0</td>\n",
       "      <td>0</td>\n",
       "      <td>0</td>\n",
       "      <td>0</td>\n",
       "      <td>0</td>\n",
       "      <td>1</td>\n",
       "      <td>0</td>\n",
       "      <td>0</td>\n",
       "      <td>0</td>\n",
       "      <td>0</td>\n",
       "      <td>0</td>\n",
       "      <td>0</td>\n",
       "    </tr>\n",
       "    <tr>\n",
       "      <th>620</th>\n",
       "      <td>mendeley_xray/test/PNEUMONIA/BACTERIA-1602272-...</td>\n",
       "      <td>NaN</td>\n",
       "      <td>NaN</td>\n",
       "      <td>NaN</td>\n",
       "      <td>NaN</td>\n",
       "      <td>0</td>\n",
       "      <td>0</td>\n",
       "      <td>0</td>\n",
       "      <td>0</td>\n",
       "      <td>0</td>\n",
       "      <td>0</td>\n",
       "      <td>0</td>\n",
       "      <td>1</td>\n",
       "      <td>0</td>\n",
       "      <td>0</td>\n",
       "      <td>0</td>\n",
       "      <td>0</td>\n",
       "      <td>0</td>\n",
       "      <td>0</td>\n",
       "    </tr>\n",
       "    <tr>\n",
       "      <th>621</th>\n",
       "      <td>mendeley_xray/test/PNEUMONIA/VIRUS-4360206-000...</td>\n",
       "      <td>NaN</td>\n",
       "      <td>NaN</td>\n",
       "      <td>NaN</td>\n",
       "      <td>NaN</td>\n",
       "      <td>0</td>\n",
       "      <td>0</td>\n",
       "      <td>0</td>\n",
       "      <td>0</td>\n",
       "      <td>0</td>\n",
       "      <td>0</td>\n",
       "      <td>0</td>\n",
       "      <td>1</td>\n",
       "      <td>0</td>\n",
       "      <td>0</td>\n",
       "      <td>0</td>\n",
       "      <td>0</td>\n",
       "      <td>0</td>\n",
       "      <td>0</td>\n",
       "    </tr>\n",
       "    <tr>\n",
       "      <th>622</th>\n",
       "      <td>mendeley_xray/test/PNEUMONIA/VIRUS-3746644-000...</td>\n",
       "      <td>NaN</td>\n",
       "      <td>NaN</td>\n",
       "      <td>NaN</td>\n",
       "      <td>NaN</td>\n",
       "      <td>0</td>\n",
       "      <td>0</td>\n",
       "      <td>0</td>\n",
       "      <td>0</td>\n",
       "      <td>0</td>\n",
       "      <td>0</td>\n",
       "      <td>0</td>\n",
       "      <td>1</td>\n",
       "      <td>0</td>\n",
       "      <td>0</td>\n",
       "      <td>0</td>\n",
       "      <td>0</td>\n",
       "      <td>0</td>\n",
       "      <td>0</td>\n",
       "    </tr>\n",
       "    <tr>\n",
       "      <th>623</th>\n",
       "      <td>mendeley_xray/test/PNEUMONIA/VIRUS-4190128-000...</td>\n",
       "      <td>NaN</td>\n",
       "      <td>NaN</td>\n",
       "      <td>NaN</td>\n",
       "      <td>NaN</td>\n",
       "      <td>0</td>\n",
       "      <td>0</td>\n",
       "      <td>0</td>\n",
       "      <td>0</td>\n",
       "      <td>0</td>\n",
       "      <td>0</td>\n",
       "      <td>0</td>\n",
       "      <td>1</td>\n",
       "      <td>0</td>\n",
       "      <td>0</td>\n",
       "      <td>0</td>\n",
       "      <td>0</td>\n",
       "      <td>0</td>\n",
       "      <td>0</td>\n",
       "    </tr>\n",
       "  </tbody>\n",
       "</table>\n",
       "</div>"
      ],
      "text/plain": [
       "                                                  Path  Sex  Age  \\\n",
       "619  mendeley_xray/test/PNEUMONIA/BACTERIA-9242636-...  NaN  NaN   \n",
       "620  mendeley_xray/test/PNEUMONIA/BACTERIA-1602272-...  NaN  NaN   \n",
       "621  mendeley_xray/test/PNEUMONIA/VIRUS-4360206-000...  NaN  NaN   \n",
       "622  mendeley_xray/test/PNEUMONIA/VIRUS-3746644-000...  NaN  NaN   \n",
       "623  mendeley_xray/test/PNEUMONIA/VIRUS-4190128-000...  NaN  NaN   \n",
       "\n",
       "    Frontal/Lateral AP/PA No Finding Enlarged Cardiomediastinum Cardiomegaly  \\\n",
       "619             NaN   NaN          0                          0            0   \n",
       "620             NaN   NaN          0                          0            0   \n",
       "621             NaN   NaN          0                          0            0   \n",
       "622             NaN   NaN          0                          0            0   \n",
       "623             NaN   NaN          0                          0            0   \n",
       "\n",
       "    Lung Opacity Lung Lesion Edema Consolidation Pneumonia Atelectasis  \\\n",
       "619            0           0     0             0         1           0   \n",
       "620            0           0     0             0         1           0   \n",
       "621            0           0     0             0         1           0   \n",
       "622            0           0     0             0         1           0   \n",
       "623            0           0     0             0         1           0   \n",
       "\n",
       "    Pneumothorax Pleural Effusion Pleural Other Fracture Support Devices  \n",
       "619            0                0             0        0               0  \n",
       "620            0                0             0        0               0  \n",
       "621            0                0             0        0               0  \n",
       "622            0                0             0        0               0  \n",
       "623            0                0             0        0               0  "
      ]
     },
     "execution_count": 49,
     "metadata": {},
     "output_type": "execute_result"
    }
   ],
   "source": [
    "test_files = test_no_files + test_pn_files\n",
    "for file in test_files:\n",
    "    row = create_row(file)\n",
    "    test_df = test_df.append(row, ignore_index=True)\n",
    "\n",
    "test_df.tail()"
   ]
  },
  {
   "cell_type": "code",
   "execution_count": 42,
   "metadata": {},
   "outputs": [],
   "source": [
    "train_df.to_csv('../mendeley_xray/train_mendeley.csv', index=False)"
   ]
  },
  {
   "cell_type": "code",
   "execution_count": 50,
   "metadata": {},
   "outputs": [],
   "source": [
    "test_df.to_csv('../mendeley_xray/test_mendeley.csv', index=False)"
   ]
  },
  {
   "cell_type": "code",
   "execution_count": 52,
   "metadata": {},
   "outputs": [],
   "source": [
    "assert len(train_df) + len(test_df) == 5856"
   ]
  },
  {
   "cell_type": "markdown",
   "metadata": {},
   "source": [
    "### Label Distribution"
   ]
  },
  {
   "cell_type": "code",
   "execution_count": 51,
   "metadata": {},
   "outputs": [
    {
     "name": "stdout",
     "output_type": "stream",
     "text": [
      "Number of images: 5856\n",
      "Number of training images: 5232\n",
      "Number of test images: 624\n"
     ]
    }
   ],
   "source": [
    "print(f\"Number of images: {len(test_df)+len(train_df)}\")\n",
    "print(f\"Number of training images: {len(train_df)}\")\n",
    "print(f\"Number of test images: {len(test_df)}\")"
   ]
  },
  {
   "cell_type": "code",
   "execution_count": 57,
   "metadata": {},
   "outputs": [],
   "source": [
    "pos = train_df[train_df == 1.0].iloc[:,[5,12]].count()\n",
    "neg = train_df[train_df == 0].iloc[:,[5,12]].count()"
   ]
  },
  {
   "cell_type": "code",
   "execution_count": 58,
   "metadata": {
    "scrolled": true
   },
   "outputs": [
    {
     "data": {
      "text/plain": [
       "<AxesSubplot:title={'center':'Prevalence of Findings in Mendeley Training Set'}>"
      ]
     },
     "execution_count": 58,
     "metadata": {},
     "output_type": "execute_result"
    },
    {
     "data": {
      "image/png": "[encoded data removed]",
      "text/plain": [
       "<Figure size 432x288 with 1 Axes>"
      ]
     },
     "metadata": {
      "needs_background": "light"
     },
     "output_type": "display_data"
    }
   ],
   "source": [
    "pos_perc = pos/len(train_df)\n",
    "pos_perc.plot(kind='bar', title=\"Prevalence of Findings in Mendeley Training Set\")"
   ]
  },
  {
   "cell_type": "code",
   "execution_count": null,
   "metadata": {},
   "outputs": [],
   "source": [
    "img_path = '../../visualization/data/'"
   ]
  },
  {
   "cell_type": "code",
   "execution_count": 102,
   "metadata": {},
   "outputs": [],
   "source": [
    "pos = train_df[train_df == 1.0].iloc[:,[12]].count()\n",
    "neg = train_df[train_df == 0].iloc[:,[12]].count()"
   ]
  },
  {
   "cell_type": "code",
   "execution_count": 103,
   "metadata": {
    "scrolled": true
   },
   "outputs": [
    {
     "data": {
      "image/png": "[encoded data removed]",
      "text/plain": [
       "<Figure size 360x360 with 1 Axes>"
      ]
     },
     "metadata": {
      "needs_background": "light"
     },
     "output_type": "display_data"
    }
   ],
   "source": [
    "X = list(pos.index)\n",
    "X_axis = np.arange(len(pos))\n",
    "\n",
    "f = plt.figure()\n",
    "f.set_figwidth(5)\n",
    "f.set_figheight(5)\n",
    "\n",
    "plt.bar(X_axis, pos, 0.01, label = 'Positive')\n",
    "plt.bar(X_axis+0.02, neg, -0.01, label='Negative')\n",
    "  \n",
    "plt.tick_params(\n",
    "    axis='x',          # changes apply to the x-axis\n",
    "    which='both',      # both major and minor ticks are affected\n",
    "    bottom=False,      # ticks along the bottom edge are off\n",
    "    top=False,         # ticks along the top edge are off\n",
    "    labelbottom=False)\n",
    "\n",
    "plt.ylabel(\"Number of Data Points\")\n",
    "plt.title(\"Prevalence of Pneumonia in Mendeley Training Set\")\n",
    "plt.legend(loc='upper right')\n",
    "\n",
    "plt.tight_layout()\n",
    "\n",
    "f.savefig(img_path+'label_mendeley_train.png')\n",
    "\n",
    "plt.plot()\n",
    "plt.show()"
   ]
  },
  {
   "cell_type": "code",
   "execution_count": 72,
   "metadata": {},
   "outputs": [],
   "source": [
    "pos = test_df[test_df == 1.0].iloc[:,[5,12]].count()\n",
    "neg = test_df[test_df == 0].iloc[:,[5,12]].count()"
   ]
  },
  {
   "cell_type": "code",
   "execution_count": 73,
   "metadata": {
    "scrolled": false
   },
   "outputs": [
    {
     "data": {
      "text/plain": [
       "<AxesSubplot:title={'center':'Prevalence of Findings in Mendeley Test Set'}>"
      ]
     },
     "execution_count": 73,
     "metadata": {},
     "output_type": "execute_result"
    },
    {
     "data": {
      "image/png": "[encoded data removed]",
      "text/plain": [
       "<Figure size 432x288 with 1 Axes>"
      ]
     },
     "metadata": {
      "needs_background": "light"
     },
     "output_type": "display_data"
    }
   ],
   "source": [
    "pos_perc = pos/len(test_df)\n",
    "pos_perc.plot(kind='bar', title=\"Prevalence of Findings in Mendeley Test Set\")"
   ]
  },
  {
   "cell_type": "code",
   "execution_count": 98,
   "metadata": {},
   "outputs": [],
   "source": [
    "pos = test_df[test_df == 1.0].iloc[:,[12]].count()\n",
    "neg = test_df[test_df == 0].iloc[:,[12]].count()"
   ]
  },
  {
   "cell_type": "code",
   "execution_count": 101,
   "metadata": {
    "scrolled": true
   },
   "outputs": [
    {
     "data": {
      "image/png": "[encoded data removed]",
      "text/plain": [
       "<Figure size 360x360 with 1 Axes>"
      ]
     },
     "metadata": {
      "needs_background": "light"
     },
     "output_type": "display_data"
    }
   ],
   "source": [
    "X = list(pos.index)\n",
    "X_axis = np.arange(len(pos))\n",
    "\n",
    "f = plt.figure()\n",
    "f.set_figwidth(5)\n",
    "f.set_figheight(5)\n",
    "\n",
    "plt.bar(X_axis, pos, 0.01, label = 'Positive')\n",
    "plt.bar(X_axis+0.02, neg, -0.01, label='Negative')\n",
    "  \n",
    "plt.tick_params(\n",
    "    axis='x',          # changes apply to the x-axis\n",
    "    which='both',      # both major and minor ticks are affected\n",
    "    bottom=False,      # ticks along the bottom edge are off\n",
    "    top=False,         # ticks along the top edge are off\n",
    "    labelbottom=False)\n",
    "\n",
    "plt.ylabel(\"Number of Data Points\")\n",
    "plt.title(\"Prevalence of Pneumonia in Mendeley Test Set\")\n",
    "plt.legend(loc='upper right')\n",
    "\n",
    "plt.tight_layout()\n",
    "\n",
    "f.savefig(img_path+'label_mendeley_test.png')\n",
    "\n",
    "plt.plot()\n",
    "plt.show()"
   ]
  },
  {
   "cell_type": "markdown",
   "metadata": {},
   "source": [
    "### Data Split\n",
    "\n",
    "Ten images are samples randomly from the training set for each split. All splits include at least two \"No Finding\" labels. Random seeds are: 206, 207, 209."
   ]
  },
  {
   "cell_type": "code",
   "execution_count": 131,
   "metadata": {},
   "outputs": [
    {
     "data": {
      "image/png": "[encoded data removed]",
      "text/plain": [
       "<Figure size 360x360 with 1 Axes>"
      ]
     },
     "metadata": {
      "needs_background": "light"
     },
     "output_type": "display_data"
    }
   ],
   "source": [
    "train_split = pd.read_csv('../mendeley_xray/client5/client_train.csv')\n",
    "\n",
    "pos = train_split[train_split == 1.0].iloc[:,[12]].count()\n",
    "neg = train_split[train_split == 0].iloc[:,[12]].count()\n",
    "\n",
    "X = list(pos.index)\n",
    "X_axis = np.arange(len(pos))\n",
    "\n",
    "f = plt.figure()\n",
    "f.set_figwidth(5)\n",
    "f.set_figheight(5)\n",
    "\n",
    "plt.bar(X_axis, pos, 0.01, label = 'Positive')\n",
    "plt.bar(X_axis+0.02, neg, -0.01, label='Negative')\n",
    "  \n",
    "plt.tick_params(\n",
    "    axis='x',          # changes apply to the x-axis\n",
    "    which='both',      # both major and minor ticks are affected\n",
    "    bottom=False,      # ticks along the bottom edge are off\n",
    "    top=False,         # ticks along the top edge are off\n",
    "    labelbottom=False)\n",
    "\n",
    "plt.ylabel(\"Number of Data Points\")\n",
    "plt.title(\"Prevalence of Pneumonia in Client 5 Training Set\")\n",
    "plt.legend(loc='upper right')\n",
    "\n",
    "plt.tight_layout()\n",
    "\n",
    "# f.savefig(img_path+'client_mendeley_training.png')\n",
    "\n",
    "plt.plot()\n",
    "plt.show()"
   ]
  },
  {
   "cell_type": "code",
   "execution_count": 132,
   "metadata": {},
   "outputs": [
    {
     "data": {
      "image/png": "[encoded data removed]",
      "text/plain": [
       "<Figure size 360x360 with 1 Axes>"
      ]
     },
     "metadata": {
      "needs_background": "light"
     },
     "output_type": "display_data"
    }
   ],
   "source": [
    "val_split = pd.read_csv('../mendeley_xray/client5/client_val.csv')\n",
    "\n",
    "pos = val_split[val_split == 1.0].iloc[:,[12]].count()\n",
    "neg = val_split[val_split == 0].iloc[:,[12]].count()\n",
    "\n",
    "X = list(pos.index)\n",
    "X_axis = np.arange(len(pos))\n",
    "\n",
    "f = plt.figure()\n",
    "f.set_figwidth(5)\n",
    "f.set_figheight(5)\n",
    "\n",
    "plt.bar(X_axis, pos, 0.01, label = 'Positive')\n",
    "plt.bar(X_axis+0.02, neg, -0.01, label='Negative')\n",
    "  \n",
    "plt.tick_params(\n",
    "    axis='x',          # changes apply to the x-axis\n",
    "    which='both',      # both major and minor ticks are affected\n",
    "    bottom=False,      # ticks along the bottom edge are off\n",
    "    top=False,         # ticks along the top edge are off\n",
    "    labelbottom=False)\n",
    "\n",
    "plt.ylabel(\"Number of Data Points\")\n",
    "plt.title(\"Prevalence of Pneumonia in Client 5 Validation Set\")\n",
    "plt.legend(loc='upper right')\n",
    "\n",
    "plt.tight_layout()\n",
    "\n",
    "# f.savefig(img_path+'client_mendeley_val.png')\n",
    "\n",
    "plt.plot()\n",
    "plt.show()"
   ]
  },
  {
   "cell_type": "code",
   "execution_count": 133,
   "metadata": {},
   "outputs": [
    {
     "data": {
      "image/png": "[encoded data removed]",
      "text/plain": [
       "<Figure size 360x360 with 1 Axes>"
      ]
     },
     "metadata": {
      "needs_background": "light"
     },
     "output_type": "display_data"
    }
   ],
   "source": [
    "test_split = pd.read_csv('../mendeley_xray/client5/client_test.csv')\n",
    "\n",
    "pos = test_split[test_split == 1.0].iloc[:,[12]].count()\n",
    "neg = test_split[test_split == 0].iloc[:,[12]].count()\n",
    "\n",
    "X = list(pos.index)\n",
    "X_axis = np.arange(len(pos))\n",
    "\n",
    "f = plt.figure()\n",
    "f.set_figwidth(5)\n",
    "f.set_figheight(5)\n",
    "\n",
    "plt.bar(X_axis, pos, 0.01, label = 'Positive')\n",
    "plt.bar(X_axis+0.02, neg, -0.01, label='Negative')\n",
    "  \n",
    "plt.tick_params(\n",
    "    axis='x',          # changes apply to the x-axis\n",
    "    which='both',      # both major and minor ticks are affected\n",
    "    bottom=False,      # ticks along the bottom edge are off\n",
    "    top=False,         # ticks along the top edge are off\n",
    "    labelbottom=False)\n",
    "\n",
    "plt.ylabel(\"Number of Data Points\")\n",
    "plt.title(\"Prevalence of Pneumonia in Client 5 Test Set\")\n",
    "plt.legend(loc='upper right')\n",
    "\n",
    "plt.tight_layout()\n",
    "\n",
    "# f.savefig(img_path+'client_mendeley_test.png')\n",
    "\n",
    "plt.plot()\n",
    "plt.show()"
   ]
  }
 ],
 "metadata": {
  "kernelspec": {
   "display_name": "cxr",
   "language": "python",
   "name": "cxr"
  },
  "language_info": {
   "codemirror_mode": {
    "name": "ipython",
    "version": 3
   },
   "file_extension": ".py",
   "mimetype": "text/x-python",
   "name": "python",
   "nbconvert_exporter": "python",
   "pygments_lexer": "ipython3",
   "version": "3.9.4"
  }
 },
 "nbformat": 4,
 "nbformat_minor": 2
}
